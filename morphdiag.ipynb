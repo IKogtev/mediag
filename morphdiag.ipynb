{
 "cells": [
  {
   "cell_type": "markdown",
   "id": "1ec5a2dd",
   "metadata": {},
   "source": [
    "# Deep learning application in the task of a tumor morphological diagnosis\n",
    "The purpose of this research is to formulate and test a hypothesis for deep learning to assist in the process of tumors morphological diagnosis. The hypothesis is tested using data and expertise from the National Center for Clinical Morphological Diagnostics (NCCMD, Sankt-Petersburg, Russia).\n",
    "# 1. Problem formulation\n",
    "This section provides a brief description of the morphological diagnosis process, and the process of deep learning using. The idea of how deep learning can be integrated into the process of morphological diagnostics is also illustrated here.\n",
    "## 1.1 Tumor morphological diagnosis - basic steps\n",
    "The main target of morphological diagnosis is to typify the tumor and identify its features that are significant for determining the treatment method.\n",
    "### 1.1.1 Research scope (process steps)\n",
    "In this research, we will not dwell on the important steps that precede the process of morphological diagnosis itself (sampling of material, preparation of material, cutting, staining). We will assume that these preparatory actions are carried out by professionals, following the procedures and using the necessary laboratory equipment. We will consider **the beginning of the process is the moment when digital images of the material have already been prepared**.\n",
    "### 1.1.2 Basic steps of morphlogical diagnostics\n",
    "For simplicity, we will consider the following steps of morphological diagnosis:\n",
    "\n",
    "![The morphological diagnostics steps](md-process.jpg)\n",
    "## 1.2 Deep learning - nessesary inputs and process steps\n",
    "For simplicity, we will consider 2 deep learning sub-processes: learn-time and inference-time.\n",
    "\n",
    "Scheme2 Deep learning process, inputs and outputs\n",
    "## 1.3 The desired place of deep learning in the process of morphological diagnosis\n",
    "Scheme3 morphological diagnosis process\n",
    "## 1.4 Hypothesis\n",
    "### 1.4.1 Research scope (diagnostic material type)\n",
    "## 1.5 Model accuracy requirements\n",
    "# 2. Input data\n",
    "## 2.1 Input data structure, format and quality\n"
   ]
  },
  {
   "cell_type": "code",
   "execution_count": null,
   "id": "d8a056b5",
   "metadata": {},
   "outputs": [],
   "source": []
  },
  {
   "cell_type": "markdown",
   "id": "5027966d",
   "metadata": {},
   "source": [
    "Authors: Sergei Vorobyov, Vitalii Kogtev"
   ]
  },
  {
   "cell_type": "code",
   "execution_count": null,
   "id": "a7e0933a",
   "metadata": {},
   "outputs": [],
   "source": []
  }
 ],
 "metadata": {
  "kernelspec": {
   "display_name": "Python 3 (ipykernel)",
   "language": "python",
   "name": "python3"
  },
  "language_info": {
   "codemirror_mode": {
    "name": "ipython",
    "version": 3
   },
   "file_extension": ".py",
   "mimetype": "text/x-python",
   "name": "python",
   "nbconvert_exporter": "python",
   "pygments_lexer": "ipython3",
   "version": "3.10.9"
  }
 },
 "nbformat": 4,
 "nbformat_minor": 5
}
