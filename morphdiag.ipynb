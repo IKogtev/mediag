{
 "cells": [
  {
   "cell_type": "markdown",
   "id": "bb754ef9",
   "metadata": {},
   "source": [
    "# Deep learning application in the task of a tumor morphological diagnosis\n",
    "The purpose of this research is to formulate and test a hypothesis for deep learning to assist in the process of tumors morphological diagnosis. The hypothesis is tested using data and expertise from `hidden`\n",
    "# 1. Problem formulation\n",
    "This section provides a brief description of the morphological diagnosis process, and the process of deep learning using. The idea of how deep learning can be integrated into the process of morphological diagnostics is also illustrated here.\n",
    "## 1.1 Tumor morphological diagnosis - basic steps\n",
    "The main target of morphological diagnosis is to typify the tumor and identify its features that are significant for determining the treatment method.\n",
    "### 1.1.1 Research scope (process steps)\n",
    "In this research, we will not dwell on the important steps that precede the process of morphological diagnosis itself (sampling of material, preparation of material, cutting, staining). We will assume that these preparatory actions are carried out by professionals, following the procedures and using the necessary laboratory equipment. We will consider **the beginning of the process is the moment when digital images of the material have already been prepared**.\n",
    "### 1.1.2 Basic steps of morphlogical diagnostics\n",
    "For simplicity, we will consider the following steps of morphological diagnosis:\n",
    "\n",
    "![The morphological diagnostics steps](md-process-v3.jpg)\n",
    "The diagnostic process is conventionally divided into three successive phases (1, 2, 3).\n",
    "## 1.2 Deep learning - necessary inputs and process steps\n",
    "All nessecary R&D for creating deep learning models (included this research) is out of process scope. For simplicity, we will consider 2 deep learning sub-processes:\n",
    "* learn-time process (model learning)\n",
    "* inference-time process (model using)\n",
    "\n",
    "![The deep learing steps](dl-process-v3.jpg)\n",
    "We see 2 necessary inputs for learn-time:\n",
    "* a library of digital images that contains samples sufficient to train the model\n",
    "* expertise of specialists who will mark and classify image fragments\n",
    "## 1.3 The desired place of deep learning in the process of morphological diagnosis\n",
    "Deep learning models should help the specialist at each phase of morphological diagnosis:\n",
    "![The morphological diagnostics phases with DL](md-dl-process-v2.jpg)\n",
    "In this diagram, we see that the main process of morphological diagnosis is performed manually, but its input is provided with image fragments that are recognized and classified by a computer model that is pre-trained to solve this specialized task.\n",
    "It should be noted that each phase of morphological diagnostics is a special task for which a special deep learning model is created and trained.\n",
    "## 1.4 Hypothesis\n",
    "### 1.4.1 Research scope (diagnostic material type)\n",
    "## 1.5 Model accuracy requirements\n",
    "# 2. Input data\n",
    "## 2.1 Input data structure, format and quality\n",
    "\n",
    "\n",
    "Author contacts: Vitaly Kogtev,\n",
    "\n",
    "mail: vitaly.kogtev@gmail.com\n",
    "\n",
    "telegram: https://t.me/VitalyKogtev\n",
    "\n",
    "linkedIn profile: https://www.linkedin.com/in/vkogtev/\n",
    "\n",
    "asdf\n",
    "\n"
   ]
  },
  {
   "cell_type": "code",
   "execution_count": null,
   "id": "b8f9a685",
   "metadata": {},
   "outputs": [],
   "source": []
  }
 ],
 "metadata": {
  "kernelspec": {
   "display_name": "Python 3 (ipykernel)",
   "language": "python",
   "name": "python3"
  },
  "language_info": {
   "codemirror_mode": {
    "name": "ipython",
    "version": 3
   },
   "file_extension": ".py",
   "mimetype": "text/x-python",
   "name": "python",
   "nbconvert_exporter": "python",
   "pygments_lexer": "ipython3",
   "version": "3.10.9"
  }
 },
 "nbformat": 4,
 "nbformat_minor": 5
}
